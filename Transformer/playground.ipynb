{
 "cells": [
  {
   "cell_type": "code",
   "execution_count": 34,
   "metadata": {},
   "outputs": [],
   "source": [
    "import torch\n",
    "import torch.nn as nn"
   ]
  },
  {
   "cell_type": "code",
   "execution_count": 35,
   "metadata": {},
   "outputs": [
    {
     "data": {
      "text/plain": [
       "tensor([[ 0.3468,    -inf,    -inf,    -inf,    -inf],\n",
       "        [-0.5746, -1.5028,    -inf,    -inf,    -inf],\n",
       "        [-0.6138, -0.5450, -0.5091,    -inf,    -inf],\n",
       "        [ 0.5085,  0.7154, -0.9438, -1.6279,    -inf],\n",
       "        [-0.3748,  0.6856,  0.7525,  0.7178, -0.1283]])"
      ]
     },
     "execution_count": 35,
     "metadata": {},
     "output_type": "execute_result"
    }
   ],
   "source": [
    "\"\"\" \n",
    "The attention matrix is a squared matric of shape (sequence_length, attention_dim)\n",
    "in the case of a masked one we need to remplace the upper triangle by -inf\n",
    "\"\"\"\n",
    "\n",
    "attention = torch.randn(5, 5)\n",
    "filter = torch.tril(attention, diagonal=0)\n",
    "attention.masked_fill_(filter == 0, float(\"-inf\"))\n"
   ]
  },
  {
   "cell_type": "code",
   "execution_count": 36,
   "metadata": {},
   "outputs": [
    {
     "data": {
      "text/plain": [
       "torch.Size([4, 5])"
      ]
     },
     "execution_count": 36,
     "metadata": {},
     "output_type": "execute_result"
    }
   ],
   "source": [
    "k = torch.randn(5,4)\n",
    "k = k.transpose(1, 0)\n",
    "k.shape"
   ]
  },
  {
   "cell_type": "code",
   "execution_count": 37,
   "metadata": {},
   "outputs": [
    {
     "data": {
      "text/plain": [
       "torch.Size([32, 10, 64])"
      ]
     },
     "execution_count": 37,
     "metadata": {},
     "output_type": "execute_result"
    }
   ],
   "source": [
    "x = torch.randn(32, 10, 512)\n",
    "Wq = nn.Linear(512, 64)\n",
    "Wq(x).shape"
   ]
  },
  {
   "cell_type": "code",
   "execution_count": 42,
   "metadata": {},
   "outputs": [
    {
     "data": {
      "text/plain": [
       "torch.Size([10, 512, 32])"
      ]
     },
     "execution_count": 42,
     "metadata": {},
     "output_type": "execute_result"
    }
   ],
   "source": [
    "x = torch.randn(32, 10, 512)\n",
    "x = x.permute(1,2,0)\n",
    "x.shape"
   ]
  },
  {
   "cell_type": "code",
   "execution_count": 45,
   "metadata": {},
   "outputs": [
    {
     "data": {
      "text/plain": [
       "torch.Size([32, 10, 512])"
      ]
     },
     "execution_count": 45,
     "metadata": {},
     "output_type": "execute_result"
    }
   ],
   "source": [
    "x = torch.randn(32,10,512)\n",
    "norm = nn.LayerNorm(512)\n",
    "norm(x).shape"
   ]
  },
  {
   "cell_type": "code",
   "execution_count": 58,
   "metadata": {},
   "outputs": [
    {
     "data": {
      "text/plain": [
       "torch.Size([784])"
      ]
     },
     "execution_count": 58,
     "metadata": {},
     "output_type": "execute_result"
    }
   ],
   "source": [
    "x = torch.randn(1,28,28) # 32,10,64,8\n",
    "x.view(-1).shape\n",
    "\n"
   ]
  }
 ],
 "metadata": {
  "kernelspec": {
   "display_name": "architecture",
   "language": "python",
   "name": "python3"
  },
  "language_info": {
   "codemirror_mode": {
    "name": "ipython",
    "version": 3
   },
   "file_extension": ".py",
   "mimetype": "text/x-python",
   "name": "python",
   "nbconvert_exporter": "python",
   "pygments_lexer": "ipython3",
   "version": "3.9.15"
  },
  "orig_nbformat": 4,
  "vscode": {
   "interpreter": {
    "hash": "6ec3b71fd431e5b2d2a583f25388c230eb5b07c1fba6c86db3d23d6edcddca5d"
   }
  }
 },
 "nbformat": 4,
 "nbformat_minor": 2
}
